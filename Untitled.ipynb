{
 "cells": [
  {
   "cell_type": "code",
   "execution_count": 1,
   "id": "3abda696-7ef0-47fd-9fa3-4c13a1341619",
   "metadata": {},
   "outputs": [],
   "source": [
    "from langchain_groq import ChatGroq"
   ]
  },
  {
   "cell_type": "code",
   "execution_count": 3,
   "id": "88e33b63-5809-4b62-bf10-b6f0b99fd5bd",
   "metadata": {},
   "outputs": [
    {
     "name": "stdout",
     "output_type": "stream",
     "text": [
      "The first person to land on the moon was Neil Armstrong. He stepped onto the lunar surface on July 20, 1969, as part of the Apollo 11 mission.\n"
     ]
    }
   ],
   "source": [
    "llm=ChatGroq(\n",
    "    temperature=0,\n",
    "    groq_api_key='###',\n",
    "    model_name=\"llama-3.1-70b-versatile\"\n",
    ")\n",
    "response=llm.invoke(\"The first person to land on moon was...\")\n",
    "print(response.content)"
   ]
  },
  {
   "cell_type": "code",
   "execution_count": 7,
   "id": "3fab50e4-ace7-48d7-bcb5-08a20b2d0535",
   "metadata": {},
   "outputs": [
    {
     "name": "stdout",
     "output_type": "stream",
     "text": [
      "Apply for Senior Software Engineer, ITC\n",
      "\n",
      "Search JobsSkip navigationSearch JobsNIKE, INC. JOBSContract JobsJoin The Talent CommunityLife @ NikeOverviewBenefitsBrandsOverviewJordanConverseTeamsOverviewAdministrative SupportAdvanced InnovationAir Manufacturing InnovationAviationCommunicationsCustomer ServiceDesignDigitalFacilitiesFinance & AccountingGovernment & Public AffairsHuman ResourcesInsights & AnalyticsLegalManufacturing & EngineeringMarketingMerchandisingPlanningPrivacyProcurementProduct Creation, Development & ManagementRetail CorporateRetail StoresSalesSocial & Community ImpactSports MarketingStrategic PlanningSupply Chain, Distribution & LogisticsSustainabilityTechnologyLocationsOverviewNike WHQNike New York HQEHQ: Hilversum, The NetherlandsELC: Laakdal, BelgiumGreater China HQDiversity, Equity & InclusionOverviewMilitary InclusionDisability InclusionIndigenous InclusionInternshipsTechnologySenior Software Engineer, ITCKarnataka, IndiaBecome a Part of the NIKE, Inc. TeamNIKE, Inc. does more than outfit the world’s best athletes. It is a place to explore potential, obliterate boundaries and push out the edges of what can be. The company looks for people who can grow, think, dream and create. Its culture thrives by embracing diversity and rewarding imagination. The brand seeks achievers, leaders and visionaries. At NIKE, Inc. it’s about each person bringing skills and passion to a challenging and constantly evolving game.NIKE is a technology company. From our flagship website and five-star mobile apps to developing products, managing big data and providing leading edge engineering and systems support, our teams at NIKE Global Technology exist to revolutionize the future at the confluence of tech and sport. We invest and develop advances in technology and employ the most creative people in the world, and then give them the support to constantly innovate, iterate and serve consumers more directly and personally.  Our teams are innovative, diverse, multidisciplinary and collaborative, taking technology into the future and bringing the world with it.WHO YOU’LL WORK WITHAs a Senior Software Engineer, you will be tasked with working closely with multiple engineering squads across a business-aligned domain to solve a wide range of business and technology related problems and you will be reporting under Software Engineering Manager. Your partners will include Scrum teams, Engineering and Architecture, as well as Product and Business leadership.WHO WE ARE LOOKING FORA Senior Software Engineer who can design, develop and deliver high quality software solutions that solve specific business problems and grow Nike’s digital businesses. At Nike, we believe in owning the lifecycle of the software that you develop within this fast-paced environment. That means that new features and products are delivered to production with speed, but also reinforced with a mature, agile development methodology and automated testing to ensure deliverables are of the highest quality.Bachelor's degree in Computer Science, Information Systems, or other relevant subject area, or equivalent experience.5-8 years’ experience of building complex software or data engineering solutionsExposure to Supply Chain Planning domain areas like demand planning, supply planning and inventory planning & management is an advantageVery strong expertise in data engineering skills using Python, Pyspark, Databricks, Delta lake, Unity catalogue, Kafka, Airflow, Spark Expectation is a must.Exposure to data governance, data quality and data life cycle management.Working knowledge on all aspects of Cloud native distributed system development. AWS preferredExperience with Dev Ops and CI/CD automation, Zero Touch deploymentsExperience with engineering best practices, including use of design patterns, and code reviews.CI/CD development environments/tools and containerization/container platforms: Git, Docker, KubernetesWell versed in TDD methodologies and the enabling tools and technologies - JUnit, TestNG, Cucumber, CI/CD etc.Should be able to eliminate Single Point of failure and test disaster recovery and HA regularlyExperience with Github Co-pilot is an advantageExperience working with large codebase on a cross functional team - Experience in building large scale systemsExceptional communication and interpersonal skillsPractitioner of Agile (Scrum) methodology with ability to communicate technical and functional vision and direction to multiple audiencesThe skills and desire to work and cooperate with colleagues all around the worldWHAT YOU’LL WORK ONAs a Senior Software Engineer, you will:Be part of a mission critical team focused on building a high-quality, low-latency, fault-tolerant supply chain platform that drive Nike’s Digital transformation and growth strategies.Design and deliver data pipelines and products following domain-driven design.Have strong communication skills, ability to manage up and down, solve complex problems, and being a supportive leader and team player is key.Leverage and organize your squad to collectively deliver software/data solutions that scale appropriately and perform to defined service level agreementsCollaborate with engineers, architects, product and agile scrum masters to develop the right business or technical solutionEnsure on going proper functioning of software & data solutions in production using quality best practicesResponsible for the health and maintainability of code base and repositoriesConsistently meets squad-level commitments and deliverables according to agreed upon timelinesKnowledge sharing through documentation, presentations, pair programming and other mechanismsAdvise product and business owners on specific technology-related aspects required to deliver solutions correctly and deliver them according to a technical roadmapBe an active member and help to define of Nike’s engineering cultureRemain current with industry trends and lead development of key innovation features.Being available in a rotating production support model and being an escalation point when neededBeing available and flexible in interacting with Global teams when needed to assist the teams with business deliverablesGrow yourself as an engineer and a leader:  Leverage Nike resources and training opportunities effectivelyNIKE, Inc. is a growth company that looks for team members to grow with it. Nike offers a generous total rewards package, casual work environment, a diverse and inclusive culture, and an electric atmosphere for professional development. No matter the location, or the role, every Nike employee shares one galvanizing mission: To bring inspiration and innovation to every athlete* in the world.NIKE, Inc. is committed to employing a diverse workforce. Qualified applicants will receive consideration without regard to race, color, religion, sex, national origin, age, sexual orientation, gender identity, gender expression, veteran status, or disability.How We HireAt NIKE, Inc. we promise to provide a premium, inclusive, compelling and authentic candidate experience. Delivering on this promise means we allow you to be at your best — and to do that, you need to understand how the hiring process works. Transparency is key.\n",
      "\n",
      "* This overview explains our hiring process for corporate roles. Note there may be different hiring steps involved for non-corporate roles.Start nowBenefitsWhether it’s transportation or financial health, we continually invest in our employees to help them achieve greatness — inside and outside of work. All who work here should be able to realize their full potential.Employee Assistance ProgramHolidaysMedical PlanPaid Time Off (PTO)Product DiscountsLearn moreFIND A STOREBECOME A MEMBERSIGN UP FOR EMAILSEND US FEEDBACKSTUDENT DISCOUNTSGET HELPGET HELPOrder StatusDeliveryReturnsPayment OptionsContact Us On Nike.com InquiriesContact Us On All Other InquiriesABOUT NIKEABOUT NIKENewsCareersInvestorsSustainabilityIndia© 2024 Nike, Inc. All Rights ReservedGuidesNike AdaptNike Air MaxNike FlyleatherNike PegasusNike Zoom FlyNike AirNike FlyEaseNike FreeNike ReactNike ZoomXNike Air Force 1Nike FlyknitNike JoyrideNike VaporflyTerms of SaleTerms of UseNike Privacy Policy\n"
     ]
    }
   ],
   "source": [
    "from langchain_community.document_loaders import WebBaseLoader\n",
    "loader=WebBaseLoader(\"https://jobs.nike.com/job/R-37070?from=job%20search%20funnel\")\n",
    "page_data=loader.load().pop().page_content\n",
    "print(page_data)"
   ]
  },
  {
   "cell_type": "code",
   "execution_count": 13,
   "id": "509ae307-3d16-4dbc-be5d-c08d918ecc12",
   "metadata": {},
   "outputs": [
    {
     "name": "stdout",
     "output_type": "stream",
     "text": [
      "```\n",
      "{\n",
      "  \"role\": \"Senior Software Engineer, ITC\",\n",
      "  \"experience\": \"5-8 years\",\n",
      "  \"skills\": [\n",
      "    \"Python\",\n",
      "    \"Pyspark\",\n",
      "    \"Databricks\",\n",
      "    \"Delta lake\",\n",
      "    \"Unity catalogue\",\n",
      "    \"Kafka\",\n",
      "    \"Airflow\",\n",
      "    \"Spark\",\n",
      "    \"AWS\",\n",
      "    \"Dev Ops\",\n",
      "    \"CI/CD automation\",\n",
      "    \"Zero Touch deployments\",\n",
      "    \"Design patterns\",\n",
      "    \"Code reviews\",\n",
      "    \"Git\",\n",
      "    \"Docker\",\n",
      "    \"Kubernetes\",\n",
      "    \"JUnit\",\n",
      "    \"TestNG\",\n",
      "    \"Cucumber\",\n",
      "    \"Agile (Scrum) methodology\"\n",
      "  ],\n",
      "  \"description\": \"As a Senior Software Engineer, you will be tasked with working closely with multiple engineering squads across a business-aligned domain to solve a wide range of business and technology related problems and you will be reporting under Software Engineering Manager. Your partners will include Scrum teams, Engineering and Architecture, as well as Product and Business leadership.\"\n",
      "}\n",
      "```\n"
     ]
    }
   ],
   "source": [
    "from langchain_core.prompts import PromptTemplate\n",
    "\n",
    "prompt_extract = PromptTemplate.from_template(\n",
    "        \"\"\"\n",
    "        ### SCRAPED TEXT FROM WEBSITE:\n",
    "        {page_data}\n",
    "        ### INSTRUCTION:\n",
    "        The scraped text is from the career's page of a website.\n",
    "        Your job is to extract the job postings and return them in JSON format containing the \n",
    "        following keys: `role`, `experience`, `skills` and `description`.\n",
    "        Only return the valid JSON.\n",
    "        ### VALID JSON (NO PREAMBLE):    \n",
    "        \"\"\"\n",
    ")\n",
    "\n",
    "chain_extract = prompt_extract | llm \n",
    "res = chain_extract.invoke(input={'page_data':page_data})\n",
    "print(res.content)"
   ]
  },
  {
   "cell_type": "code",
   "execution_count": 14,
   "id": "d5a4dd3a-04f5-4ab8-807b-19147f3c28aa",
   "metadata": {},
   "outputs": [
    {
     "data": {
      "text/plain": [
       "{'role': 'Senior Software Engineer, ITC',\n",
       " 'experience': '5-8 years',\n",
       " 'skills': ['Python',\n",
       "  'Pyspark',\n",
       "  'Databricks',\n",
       "  'Delta lake',\n",
       "  'Unity catalogue',\n",
       "  'Kafka',\n",
       "  'Airflow',\n",
       "  'Spark',\n",
       "  'AWS',\n",
       "  'Dev Ops',\n",
       "  'CI/CD automation',\n",
       "  'Zero Touch deployments',\n",
       "  'Design patterns',\n",
       "  'Code reviews',\n",
       "  'Git',\n",
       "  'Docker',\n",
       "  'Kubernetes',\n",
       "  'JUnit',\n",
       "  'TestNG',\n",
       "  'Cucumber',\n",
       "  'Agile (Scrum) methodology'],\n",
       " 'description': 'As a Senior Software Engineer, you will be tasked with working closely with multiple engineering squads across a business-aligned domain to solve a wide range of business and technology related problems and you will be reporting under Software Engineering Manager. Your partners will include Scrum teams, Engineering and Architecture, as well as Product and Business leadership.'}"
      ]
     },
     "execution_count": 14,
     "metadata": {},
     "output_type": "execute_result"
    }
   ],
   "source": [
    "from langchain_core.output_parsers import JsonOutputParser\n",
    "\n",
    "json_parser = JsonOutputParser()\n",
    "json_res = json_parser.parse(res.content)\n",
    "json_res"
   ]
  },
  {
   "cell_type": "code",
   "execution_count": 15,
   "id": "c861bd4c-180a-44db-9895-5b492a2d679f",
   "metadata": {},
   "outputs": [
    {
     "data": {
      "text/html": [
       "<div>\n",
       "<style scoped>\n",
       "    .dataframe tbody tr th:only-of-type {\n",
       "        vertical-align: middle;\n",
       "    }\n",
       "\n",
       "    .dataframe tbody tr th {\n",
       "        vertical-align: top;\n",
       "    }\n",
       "\n",
       "    .dataframe thead th {\n",
       "        text-align: right;\n",
       "    }\n",
       "</style>\n",
       "<table border=\"1\" class=\"dataframe\">\n",
       "  <thead>\n",
       "    <tr style=\"text-align: right;\">\n",
       "      <th></th>\n",
       "      <th>Techstack</th>\n",
       "      <th>Links</th>\n",
       "    </tr>\n",
       "  </thead>\n",
       "  <tbody>\n",
       "    <tr>\n",
       "      <th>0</th>\n",
       "      <td>React, Node.js, MongoDB</td>\n",
       "      <td>https://example.com/react-portfolio</td>\n",
       "    </tr>\n",
       "    <tr>\n",
       "      <th>1</th>\n",
       "      <td>Angular,.NET, SQL Server</td>\n",
       "      <td>https://example.com/angular-portfolio</td>\n",
       "    </tr>\n",
       "    <tr>\n",
       "      <th>2</th>\n",
       "      <td>Vue.js, Ruby on Rails, PostgreSQL</td>\n",
       "      <td>https://example.com/vue-portfolio</td>\n",
       "    </tr>\n",
       "    <tr>\n",
       "      <th>3</th>\n",
       "      <td>Python, Django, MySQL</td>\n",
       "      <td>https://example.com/python-portfolio</td>\n",
       "    </tr>\n",
       "    <tr>\n",
       "      <th>4</th>\n",
       "      <td>Java, Spring Boot, Oracle</td>\n",
       "      <td>https://example.com/java-portfolio</td>\n",
       "    </tr>\n",
       "    <tr>\n",
       "      <th>5</th>\n",
       "      <td>Flutter, Firebase, GraphQL</td>\n",
       "      <td>https://example.com/flutter-portfolio</td>\n",
       "    </tr>\n",
       "    <tr>\n",
       "      <th>6</th>\n",
       "      <td>WordPress, PHP, MySQL</td>\n",
       "      <td>https://example.com/wordpress-portfolio</td>\n",
       "    </tr>\n",
       "    <tr>\n",
       "      <th>7</th>\n",
       "      <td>Magento, PHP, MySQL</td>\n",
       "      <td>https://example.com/magento-portfolio</td>\n",
       "    </tr>\n",
       "    <tr>\n",
       "      <th>8</th>\n",
       "      <td>React Native, Node.js, MongoDB</td>\n",
       "      <td>https://example.com/react-native-portfolio</td>\n",
       "    </tr>\n",
       "    <tr>\n",
       "      <th>9</th>\n",
       "      <td>iOS, Swift, Core Data</td>\n",
       "      <td>https://example.com/ios-portfolio</td>\n",
       "    </tr>\n",
       "    <tr>\n",
       "      <th>10</th>\n",
       "      <td>Android, Java, Room Persistence</td>\n",
       "      <td>https://example.com/android-portfolio</td>\n",
       "    </tr>\n",
       "    <tr>\n",
       "      <th>11</th>\n",
       "      <td>Kotlin, Android, Firebase</td>\n",
       "      <td>https://example.com/kotlin-android-portfolio</td>\n",
       "    </tr>\n",
       "    <tr>\n",
       "      <th>12</th>\n",
       "      <td>Android TV, Kotlin, Android NDK</td>\n",
       "      <td>https://example.com/android-tv-portfolio</td>\n",
       "    </tr>\n",
       "    <tr>\n",
       "      <th>13</th>\n",
       "      <td>iOS, Swift, ARKit</td>\n",
       "      <td>https://example.com/ios-ar-portfolio</td>\n",
       "    </tr>\n",
       "    <tr>\n",
       "      <th>14</th>\n",
       "      <td>Cross-platform, Xamarin, Azure</td>\n",
       "      <td>https://example.com/xamarin-portfolio</td>\n",
       "    </tr>\n",
       "    <tr>\n",
       "      <th>15</th>\n",
       "      <td>Backend, Kotlin, Spring Boot</td>\n",
       "      <td>https://example.com/kotlin-backend-portfolio</td>\n",
       "    </tr>\n",
       "    <tr>\n",
       "      <th>16</th>\n",
       "      <td>Frontend, TypeScript, Angular</td>\n",
       "      <td>https://example.com/typescript-frontend-portfolio</td>\n",
       "    </tr>\n",
       "    <tr>\n",
       "      <th>17</th>\n",
       "      <td>Full-stack, JavaScript, Express.js</td>\n",
       "      <td>https://example.com/full-stack-js-portfolio</td>\n",
       "    </tr>\n",
       "    <tr>\n",
       "      <th>18</th>\n",
       "      <td>Machine Learning, Python, TensorFlow</td>\n",
       "      <td>https://example.com/ml-python-portfolio</td>\n",
       "    </tr>\n",
       "    <tr>\n",
       "      <th>19</th>\n",
       "      <td>DevOps, Jenkins, Docker</td>\n",
       "      <td>https://example.com/devops-portfolio</td>\n",
       "    </tr>\n",
       "  </tbody>\n",
       "</table>\n",
       "</div>"
      ],
      "text/plain": [
       "                               Techstack  \\\n",
       "0                React, Node.js, MongoDB   \n",
       "1               Angular,.NET, SQL Server   \n",
       "2      Vue.js, Ruby on Rails, PostgreSQL   \n",
       "3                  Python, Django, MySQL   \n",
       "4              Java, Spring Boot, Oracle   \n",
       "5             Flutter, Firebase, GraphQL   \n",
       "6                  WordPress, PHP, MySQL   \n",
       "7                    Magento, PHP, MySQL   \n",
       "8         React Native, Node.js, MongoDB   \n",
       "9                  iOS, Swift, Core Data   \n",
       "10       Android, Java, Room Persistence   \n",
       "11             Kotlin, Android, Firebase   \n",
       "12       Android TV, Kotlin, Android NDK   \n",
       "13                     iOS, Swift, ARKit   \n",
       "14        Cross-platform, Xamarin, Azure   \n",
       "15          Backend, Kotlin, Spring Boot   \n",
       "16         Frontend, TypeScript, Angular   \n",
       "17    Full-stack, JavaScript, Express.js   \n",
       "18  Machine Learning, Python, TensorFlow   \n",
       "19               DevOps, Jenkins, Docker   \n",
       "\n",
       "                                                Links  \n",
       "0                 https://example.com/react-portfolio  \n",
       "1               https://example.com/angular-portfolio  \n",
       "2                   https://example.com/vue-portfolio  \n",
       "3                https://example.com/python-portfolio  \n",
       "4                  https://example.com/java-portfolio  \n",
       "5               https://example.com/flutter-portfolio  \n",
       "6             https://example.com/wordpress-portfolio  \n",
       "7               https://example.com/magento-portfolio  \n",
       "8          https://example.com/react-native-portfolio  \n",
       "9                   https://example.com/ios-portfolio  \n",
       "10              https://example.com/android-portfolio  \n",
       "11       https://example.com/kotlin-android-portfolio  \n",
       "12           https://example.com/android-tv-portfolio  \n",
       "13               https://example.com/ios-ar-portfolio  \n",
       "14              https://example.com/xamarin-portfolio  \n",
       "15       https://example.com/kotlin-backend-portfolio  \n",
       "16  https://example.com/typescript-frontend-portfolio  \n",
       "17        https://example.com/full-stack-js-portfolio  \n",
       "18            https://example.com/ml-python-portfolio  \n",
       "19               https://example.com/devops-portfolio  "
      ]
     },
     "execution_count": 15,
     "metadata": {},
     "output_type": "execute_result"
    }
   ],
   "source": [
    "import pandas as pd\n",
    "\n",
    "df = pd.read_csv(\"my_portfolio.csv\")\n",
    "df"
   ]
  },
  {
   "cell_type": "code",
   "execution_count": 31,
   "id": "fdea23ec-73dc-4362-ada9-b8d07861d060",
   "metadata": {},
   "outputs": [],
   "source": [
    "import uuid\n",
    "import chromadb\n",
    "import httpx\n",
    "\n",
    "client = httpx.Client(timeout=600000000000)  # Increase timeout to 60 seconds\n",
    "\n",
    "\n",
    "client = chromadb.PersistentClient('vectorstore')\n",
    "collection = client.get_or_create_collection(name=\"portfolio\")\n",
    "\n",
    "if not collection.count():\n",
    "    for _, row in df.iterrows():\n",
    "        collection.add(documents=row[\"Techstack\"],\n",
    "                       metadatas={\"links\": row[\"Links\"]},\n",
    "                       ids=[str(uuid.uuid4())])"
   ]
  },
  {
   "cell_type": "code",
   "execution_count": 41,
   "id": "e93518ae-8e28-428f-a607-19d670070257",
   "metadata": {},
   "outputs": [
    {
     "name": "stdout",
     "output_type": "stream",
     "text": [
      "Links for job skills: [[{'links': 'https://example.com/ml-python-portfolio'}, {'links': 'https://example.com/python-portfolio'}], [{'links': 'https://example.com/ml-python-portfolio'}, {'links': 'https://example.com/python-portfolio'}], [{'links': 'https://example.com/flutter-portfolio'}, {'links': 'https://example.com/kotlin-android-portfolio'}], [{'links': 'https://example.com/java-portfolio'}, {'links': 'https://example.com/devops-portfolio'}], [{'links': 'https://example.com/ios-portfolio'}, {'links': 'https://example.com/angular-portfolio'}], [{'links': 'https://example.com/devops-portfolio'}, {'links': 'https://example.com/android-tv-portfolio'}], [{'links': 'https://example.com/ml-python-portfolio'}, {'links': 'https://example.com/ios-ar-portfolio'}], [{'links': 'https://example.com/kotlin-android-portfolio'}, {'links': 'https://example.com/kotlin-backend-portfolio'}], [{'links': 'https://example.com/ios-ar-portfolio'}, {'links': 'https://example.com/wordpress-portfolio'}], [{'links': 'https://example.com/devops-portfolio'}, {'links': 'https://example.com/ios-ar-portfolio'}], [{'links': 'https://example.com/devops-portfolio'}, {'links': 'https://example.com/magento-portfolio'}], [{'links': 'https://example.com/ios-ar-portfolio'}, {'links': 'https://example.com/devops-portfolio'}], [{'links': 'https://example.com/android-portfolio'}, {'links': 'https://example.com/flutter-portfolio'}], [{'links': 'https://example.com/full-stack-js-portfolio'}, {'links': 'https://example.com/wordpress-portfolio'}], [{'links': 'https://example.com/devops-portfolio'}, {'links': 'https://example.com/kotlin-android-portfolio'}], [{'links': 'https://example.com/devops-portfolio'}, {'links': 'https://example.com/ios-ar-portfolio'}], [{'links': 'https://example.com/devops-portfolio'}, {'links': 'https://example.com/kotlin-backend-portfolio'}], [{'links': 'https://example.com/java-portfolio'}, {'links': 'https://example.com/kotlin-backend-portfolio'}], [{'links': 'https://example.com/android-tv-portfolio'}, {'links': 'https://example.com/android-portfolio'}], [{'links': 'https://example.com/vue-portfolio'}, {'links': 'https://example.com/devops-portfolio'}], [{'links': 'https://example.com/kotlin-backend-portfolio'}, {'links': 'https://example.com/java-portfolio'}]]\n"
     ]
    }
   ],
   "source": [
    "# Assuming json_res is the result from JSON parsing\n",
    "try:\n",
    "    # Ensure you have a valid dictionary\n",
    "    job = json_res  # or however you're setting job\n",
    "\n",
    "    if isinstance(job, dict):\n",
    "        links = collection.query(query_texts=job['skills'], n_results=2).get('metadatas', [])\n",
    "        print(\"Links for job skills:\", links)\n",
    "    else:\n",
    "        print(\"Error: job is not a dictionary, it's a:\", type(job), \"with value:\", job)\n",
    "\n",
    "except Exception as e:\n",
    "    print(\"Error:\", e)\n"
   ]
  },
  {
   "cell_type": "code",
   "execution_count": 42,
   "id": "b96fa5c8-f709-42a2-a8c1-026703d24b36",
   "metadata": {},
   "outputs": [
    {
     "data": {
      "text/plain": [
       "{'role': 'Senior Software Engineer, ITC',\n",
       " 'experience': '5-8 years',\n",
       " 'skills': ['Python',\n",
       "  'Pyspark',\n",
       "  'Databricks',\n",
       "  'Delta lake',\n",
       "  'Unity catalogue',\n",
       "  'Kafka',\n",
       "  'Airflow',\n",
       "  'Spark',\n",
       "  'AWS',\n",
       "  'Dev Ops',\n",
       "  'CI/CD automation',\n",
       "  'Zero Touch deployments',\n",
       "  'Design patterns',\n",
       "  'Code reviews',\n",
       "  'Git',\n",
       "  'Docker',\n",
       "  'Kubernetes',\n",
       "  'JUnit',\n",
       "  'TestNG',\n",
       "  'Cucumber',\n",
       "  'Agile (Scrum) methodology'],\n",
       " 'description': 'As a Senior Software Engineer, you will be tasked with working closely with multiple engineering squads across a business-aligned domain to solve a wide range of business and technology related problems and you will be reporting under Software Engineering Manager. Your partners will include Scrum teams, Engineering and Architecture, as well as Product and Business leadership.'}"
      ]
     },
     "execution_count": 42,
     "metadata": {},
     "output_type": "execute_result"
    }
   ],
   "source": [
    "job\n"
   ]
  },
  {
   "cell_type": "code",
   "execution_count": 43,
   "id": "07f8fe5b-3ed1-4f29-b605-9f9ab96ae81d",
   "metadata": {},
   "outputs": [
    {
     "data": {
      "text/plain": [
       "['Python',\n",
       " 'Pyspark',\n",
       " 'Databricks',\n",
       " 'Delta lake',\n",
       " 'Unity catalogue',\n",
       " 'Kafka',\n",
       " 'Airflow',\n",
       " 'Spark',\n",
       " 'AWS',\n",
       " 'Dev Ops',\n",
       " 'CI/CD automation',\n",
       " 'Zero Touch deployments',\n",
       " 'Design patterns',\n",
       " 'Code reviews',\n",
       " 'Git',\n",
       " 'Docker',\n",
       " 'Kubernetes',\n",
       " 'JUnit',\n",
       " 'TestNG',\n",
       " 'Cucumber',\n",
       " 'Agile (Scrum) methodology']"
      ]
     },
     "execution_count": 43,
     "metadata": {},
     "output_type": "execute_result"
    }
   ],
   "source": [
    "job = json_res\n",
    "job['skills']"
   ]
  },
  {
   "cell_type": "code",
   "execution_count": 45,
   "id": "d4999093-f4d1-4741-a46e-3f484fb58b77",
   "metadata": {},
   "outputs": [
    {
     "name": "stdout",
     "output_type": "stream",
     "text": [
      "Subject: Expert Senior Software Engineer for ITC Role at Your Organization\n",
      "\n",
      "Dear Hiring Manager,\n",
      "\n",
      "I came across the job description for a Senior Software Engineer, ITC at your esteemed organization and was impressed by the role's requirements. As a Business Development Executive at XYZ Company, I'd like to introduce you to our team of experts who can fulfill your needs.\n",
      "\n",
      "Our company specializes in AI & Software Consulting, dedicated to facilitating seamless integration of business processes through automated tools. We've empowered numerous enterprises with tailored solutions, fostering scalability, process optimization, cost reduction, and heightened overall efficiency.\n",
      "\n",
      "Our team of Senior Software Engineers possesses the required skills and expertise to excel in the ITC role, including proficiency in Python, Pyspark, Databricks, Delta lake, Unity catalogue, Kafka, Airflow, Spark, AWS, DevOps, CI/CD automation, Zero Touch deployments, Design patterns, Code reviews, Git, Docker, Kubernetes, JUnit, TestNG, Cucumber, and Agile (Scrum) methodology.\n",
      "\n",
      "To showcase our capabilities, I'd like to share some relevant portfolio links:\n",
      "\n",
      "- https://example.com/ml-python-portfolio (Machine Learning with Python)\n",
      "- https://example.com/python-portfolio (Python Development)\n",
      "- https://example.com/devops-portfolio (DevOps Solutions)\n",
      "\n",
      "These portfolios demonstrate our expertise in developing scalable and efficient software solutions using Python, Machine Learning, and DevOps practices.\n",
      "\n",
      "Our team is well-equipped to work closely with your engineering squads to solve business and technology-related problems. We're confident that our expertise will enable us to make a significant impact at your organization.\n",
      "\n",
      "If you're interested in discussing how our team can contribute to your organization's success, please don't hesitate to contact me. I'd be more than happy to schedule a call to explore further.\n",
      "\n",
      "Best regards,\n",
      "\n",
      "Devika\n",
      "Business Development Executive\n",
      "XYZ Company\n"
     ]
    }
   ],
   "source": [
    "prompt_email = PromptTemplate.from_template(\n",
    "        \"\"\"\n",
    "        ### JOB DESCRIPTION:\n",
    "        {job_description}\n",
    "        \n",
    "        ### INSTRUCTION:\n",
    "        You are Devika, a business development executive at XYZ Company. XYZ is an AI & Software Consulting company dedicated to facilitating\n",
    "        the seamless integration of business processes through automated tools. \n",
    "        Over our experience, we have empowered numerous enterprises with tailored solutions, fostering scalability, \n",
    "        process optimization, cost reduction, and heightened overall efficiency. \n",
    "        Your job is to write a cold email to the client regarding the job mentioned above describing the capability of XYZ \n",
    "        in fulfilling their needs.\n",
    "        Also add the most relevant ones from the following links to showcase XYZ's portfolio: {link_list}\n",
    "        Remember you are Devika, BDE at XYZ. \n",
    "        Do not provide a preamble.\n",
    "        ### EMAIL (NO PREAMBLE):\n",
    "        \n",
    "        \"\"\"\n",
    "        )\n",
    "\n",
    "chain_email = prompt_email | llm\n",
    "res = chain_email.invoke({\"job_description\": str(job), \"link_list\": links})\n",
    "print(res.content)"
   ]
  },
  {
   "cell_type": "code",
   "execution_count": null,
   "id": "6d3b5962-d593-4f3a-b002-e06740aca599",
   "metadata": {},
   "outputs": [],
   "source": []
  }
 ],
 "metadata": {
  "kernelspec": {
   "display_name": "Python 3 (ipykernel)",
   "language": "python",
   "name": "python3"
  },
  "language_info": {
   "codemirror_mode": {
    "name": "ipython",
    "version": 3
   },
   "file_extension": ".py",
   "mimetype": "text/x-python",
   "name": "python",
   "nbconvert_exporter": "python",
   "pygments_lexer": "ipython3",
   "version": "3.12.6"
  }
 },
 "nbformat": 4,
 "nbformat_minor": 5
}
